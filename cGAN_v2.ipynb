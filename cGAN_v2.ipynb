{
 "cells": [
  {
   "cell_type": "code",
   "execution_count": 21,
   "metadata": {},
   "outputs": [],
   "source": [
    "# cGAN\n",
    "# 출처 : http://i-systems.github.io/HSE545/iAI/DL/topics/09_GAN/02_CGAN.html\n",
    "\n",
    "import numpy as np\n",
    "import matplotlib.pyplot as plt\n",
    "import tensorflow as tf"
   ]
  },
  {
   "cell_type": "code",
   "execution_count": 22,
   "metadata": {},
   "outputs": [
    {
     "name": "stdout",
     "output_type": "stream",
     "text": [
      "Extracting ./mnist/data/train-images-idx3-ubyte.gz\n",
      "Extracting ./mnist/data/train-labels-idx1-ubyte.gz\n",
      "Extracting ./mnist/data/t10k-images-idx3-ubyte.gz\n",
      "Extracting ./mnist/data/t10k-labels-idx1-ubyte.gz\n"
     ]
    }
   ],
   "source": [
    "from tensorflow.examples.tutorials.mnist import input_data\n",
    "\n",
    "mnist = input_data.read_data_sets(\"./mnist/data/\", one_hot=True)"
   ]
  },
  {
   "cell_type": "code",
   "execution_count": 23,
   "metadata": {},
   "outputs": [],
   "source": [
    "# cGAN이 GAN과 가장 큰 차이점은 condition -> label(y)가 들어간다는 것\n",
    "# condition을 주기 위해 n_label 변수를 설정해준다.\n",
    "\n",
    "n_D_input = 28*28\n",
    "n_D_hidden = 256\n",
    "n_D_output = 1\n",
    "\n",
    "n_G_input = 128\n",
    "n_G_hidden = 256\n",
    "n_G_output = 28*28\n",
    "\n",
    "n_label = 10 # one-hot-encoding"
   ]
  },
  {
   "cell_type": "code",
   "execution_count": 24,
   "metadata": {},
   "outputs": [],
   "source": [
    "# weights 쓰이는 변수들은 랜덤으로 숫자를 만들고, biases 들은 0으로 초기화 함\n",
    "\n",
    "weights = {\n",
    "    'G1' : tf.Variable(tf.random_normal([n_G_input + n_label, n_G_hidden], stddev = 0.01)),\n",
    "    'G2' : tf.Variable(tf.random_normal([n_G_hidden, n_G_output], stddev = 0.01)),\n",
    "    'D1' : tf.Variable(tf.random_normal([n_D_input + n_label, n_D_hidden], stddev = 0.01)),\n",
    "    'D2' : tf.Variable(tf.random_normal([n_D_hidden, n_D_output], stddev = 0.01))\n",
    "}\n",
    "\n",
    "biases = {   \n",
    "    'G1' : tf.Variable(tf.zeros([n_G_hidden])),\n",
    "    'G2' : tf.Variable(tf.zeros([n_G_output])),\n",
    "    'D1' : tf.Variable(tf.zeros([n_D_hidden])),\n",
    "    'D2' : tf.Variable(tf.zeros([n_D_output]))\n",
    "}\n",
    "\n",
    "# z : z_noise  x : input image  c : condition(label)\n",
    "\n",
    "z = tf.placeholder(tf.float32, [None, n_G_input])\n",
    "x = tf.placeholder(tf.float32, [None, n_D_input])\n",
    "c = tf.placeholder(tf.float32, [None, n_label])"
   ]
  },
  {
   "cell_type": "code",
   "execution_count": 25,
   "metadata": {},
   "outputs": [],
   "source": [
    "# 생성기(Generator)의 신경망 구성\n",
    "# hidden layer에 G_input과 함께 label(condition)이 들어간다\n",
    "\n",
    "def generator(G_input, label, weights, biases):\n",
    "    hidden = tf.nn.relu(tf.matmul(tf.concat([G_input, label], 1), weights['G1']) + biases['G1']) # tf.concat : axis 1을 기준으로 G_input과 label을 이어 붙임   \n",
    "    output = tf.nn.sigmoid(tf.matmul(hidden, weights['G2']) + biases['G2'])\n",
    "    return output"
   ]
  },
  {
   "cell_type": "code",
   "execution_count": 26,
   "metadata": {},
   "outputs": [],
   "source": [
    "# 판별기(Discriminator)의 신경망 구성\n",
    "# 마찬가지로 input에 label이 함께 들어간다\n",
    "\n",
    "def discriminator(D_input, label, weights, biases):\n",
    "    hidden = tf.nn.relu(tf.matmul(tf.concat([D_input, label], 1), weights['D1']) + biases['D1'])\n",
    "    output = tf.nn.sigmoid(tf.matmul(hidden, weights['D2']) + biases['D2'])\n",
    "    return output"
   ]
  },
  {
   "cell_type": "code",
   "execution_count": 27,
   "metadata": {},
   "outputs": [],
   "source": [
    "# 노이즈(z) 생성\n",
    "\n",
    "def make_noise(n_batch, n_G_input):\n",
    "    return np.random.normal(size = (n_batch, n_G_input))"
   ]
  },
  {
   "cell_type": "code",
   "execution_count": 28,
   "metadata": {},
   "outputs": [],
   "source": [
    "G_output = generator(z, c, weights, biases)\n",
    "D_fake = discriminator(G_output, c, weights, biases)\n",
    "D_real = discriminator(x, c, weights, biases)\n",
    "\n",
    "# GAN의 loss function과 동일 (여기에서는 loss function에서 - 해줌)\n",
    "D_loss = tf.reduce_mean(-tf.log(D_real)-tf.log(1 - D_fake))\n",
    "G_loss = tf.reduce_mean(-tf.log(D_fake))\n",
    "\n",
    "# optimizer에 넣기 위해 list로 만들어줌\n",
    "D_var_list = [weights['D1'], biases['D1'], weights['D2'], biases['D2']]\n",
    "G_var_list = [weights['G1'], biases['G1'], weights['G2'], biases['G2']]\n",
    "\n",
    "LR = 0.0002 # learning rate\n",
    "\n",
    "# 각각 AdamOptimizer로 loss를 minimize하는 변수를 학습한다\n",
    "D_optm = tf.train.AdamOptimizer(LR).minimize(D_loss, var_list = D_var_list)\n",
    "G_optm = tf.train.AdamOptimizer(LR).minimize(G_loss, var_list = G_var_list)"
   ]
  },
  {
   "cell_type": "code",
   "execution_count": 29,
   "metadata": {},
   "outputs": [],
   "source": [
    "n_batch = 100  # batch size\n",
    "n_epoch = 30 # epoch\n",
    "n_prt = 5   # 이미지를 5번째마다 프린트하기 위해 설정"
   ]
  },
  {
   "cell_type": "code",
   "execution_count": 30,
   "metadata": {},
   "outputs": [
    {
     "name": "stdout",
     "output_type": "stream",
     "text": [
      "Epoch: 0000 D_loss: 0.4258 G_loss: 1.858\n"
     ]
    },
    {
     "data": {
      "image/png": "[encoded data removed]",
      "text/plain": [
       "<Figure size 360x360 with 1 Axes>"
      ]
     },
     "metadata": {
      "needs_background": "light"
     },
     "output_type": "display_data"
    },
    {
     "name": "stdout",
     "output_type": "stream",
     "text": [
      "Epoch: 0005 D_loss: 0.1643 G_loss: 2.75\n"
     ]
    },
    {
     "data": {
      "image/png": "[encoded data removed]",
      "text/plain": [
       "<Figure size 360x360 with 1 Axes>"
      ]
     },
     "metadata": {
      "needs_background": "light"
     },
     "output_type": "display_data"
    },
    {
     "name": "stdout",
     "output_type": "stream",
     "text": [
      "Epoch: 0010 D_loss: 0.4281 G_loss: 2.212\n"
     ]
    },
    {
     "data": {
      "image/png": "[encoded data removed]",
      "text/plain": [
       "<Figure size 360x360 with 1 Axes>"
      ]
     },
     "metadata": {
      "needs_background": "light"
     },
     "output_type": "display_data"
    },
    {
     "name": "stdout",
     "output_type": "stream",
     "text": [
      "Epoch: 0015 D_loss: 0.4991 G_loss: 2.289\n"
     ]
    },
    {
     "data": {
      "image/png": "[encoded data removed]",
      "text/plain": [
       "<Figure size 360x360 with 1 Axes>"
      ]
     },
     "metadata": {
      "needs_background": "light"
     },
     "output_type": "display_data"
    },
    {
     "name": "stdout",
     "output_type": "stream",
     "text": [
      "Epoch: 0020 D_loss: 0.4942 G_loss: 1.947\n"
     ]
    },
    {
     "data": {
      "image/png": "[encoded data removed]",
      "text/plain": [
       "<Figure size 360x360 with 1 Axes>"
      ]
     },
     "metadata": {
      "needs_background": "light"
     },
     "output_type": "display_data"
    },
    {
     "name": "stdout",
     "output_type": "stream",
     "text": [
      "Epoch: 0025 D_loss: 0.4637 G_loss: 2.441\n"
     ]
    },
    {
     "data": {
      "image/png": "[encoded data removed]",
      "text/plain": [
       "<Figure size 360x360 with 1 Axes>"
      ]
     },
     "metadata": {
      "needs_background": "light"
     },
     "output_type": "display_data"
    },
    {
     "name": "stdout",
     "output_type": "stream",
     "text": [
      "최적화 완료!\n"
     ]
    }
   ],
   "source": [
    "sess = tf.Session()\n",
    "sess.run(tf.global_variables_initializer())\n",
    "\n",
    "D_loss_record = []\n",
    "G_loss_record = []\n",
    "total_batch = int(mnist.train.num_examples/n_batch) # 전체 이미지 갯수/batch_size 해서 한번 학습 할때 100batch_size로 몇번을 해야 1epoch을 도는지 계산\n",
    "\n",
    "for epoch in range(n_epoch):\n",
    "    for i in range(total_batch):\n",
    "        train_x, train_y = mnist.train.next_batch(n_batch) # batch size만큼 이미지와 label를 갖고온다\n",
    "        noise = make_noise(n_batch, n_G_input) # Generator에 input으로 들어가는 노이즈 생성\n",
    "\n",
    "        # discriminator와 generator가 각각 돌아가면서 학습한다\n",
    "        sess.run(D_optm, feed_dict = {x: train_x, z: noise, c: train_y})\n",
    "        sess.run(G_optm, feed_dict = {z: noise, c: train_y})\n",
    "\n",
    "    # 10번째 마다 이미지 프린트\n",
    "    if epoch % n_prt == 0:\n",
    "        D_loss_val = sess.run(D_loss, feed_dict = {x: train_x, z: noise, c: train_y})\n",
    "        G_loss_val = sess.run(G_loss, feed_dict = {z: noise, c: train_y})\n",
    "        D_loss_record.append(D_loss_val)\n",
    "        G_loss_record.append(G_loss_val)\n",
    "        \n",
    "        print('Epoch:', '%04d' % epoch, 'D_loss: {:.4}'.format(D_loss_val), 'G_loss: {:.4}'.format(G_loss_val))\n",
    "\n",
    "        plt.figure(figsize = (5,5))\n",
    "        noise = make_noise(1, n_G_input)\n",
    "        _, train_y = mnist.train.next_batch(1)\n",
    "        G_img = sess.run(G_output, feed_dict = {z: noise, c: train_y})   \n",
    "        plt.imshow(G_img.reshape(28,28), 'gray')\n",
    "        plt.axis('off')\n",
    "        plt.show()\n",
    "        \n",
    "print('최적화 완료!')"
   ]
  },
  {
   "cell_type": "code",
   "execution_count": 52,
   "metadata": {},
   "outputs": [
    {
     "data": {
      "image/png": "[encoded data removed]",
      "text/plain": [
       "<Figure size 360x360 with 1 Axes>"
      ]
     },
     "metadata": {
      "needs_background": "light"
     },
     "output_type": "display_data"
    }
   ],
   "source": [
    "noise = make_noise(1, n_G_input)\n",
    "G_img = sess.run(G_output, feed_dict = {z: noise, c: [[1,0,0,0,0,0,0,0,0,0]]})\n",
    "\n",
    "plt.figure(figsize = (5,5))\n",
    "plt.imshow(G_img.reshape(28,28), 'gray')\n",
    "plt.axis('off')\n",
    "plt.show()"
   ]
  }
 ],
 "metadata": {
  "kernelspec": {
   "display_name": "Python 3",
   "language": "python",
   "name": "python3"
  },
  "language_info": {
   "codemirror_mode": {
    "name": "ipython",
    "version": 3
   },
   "file_extension": ".py",
   "mimetype": "text/x-python",
   "name": "python",
   "nbconvert_exporter": "python",
   "pygments_lexer": "ipython3",
   "version": "3.7.3"
  }
 },
 "nbformat": 4,
 "nbformat_minor": 4
}
